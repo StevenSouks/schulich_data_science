{
 "cells": [
  {
   "cell_type": "code",
   "execution_count": 1,
   "metadata": {},
   "outputs": [],
   "source": [
    "import pandas as pd\n",
    "import numpy as np\n",
    "import seaborn as sns\n",
    "import matplotlib.pyplot as plt\n",
    "\n",
    "df = pd.read_csv('https://raw.githubusercontent.com/delinai/schulich_ds1_2024/main/Datasets/Assignment1_StreamFlow_Subscription_Data.csv')\n"
   ]
  },
  {
   "cell_type": "code",
   "execution_count": 2,
   "metadata": {},
   "outputs": [
    {
     "name": "stdout",
     "output_type": "stream",
     "text": [
      "     Subscription_Start_Date  year  quarter year_quarter\n",
      "0 2020-06-07 01:53:37.656934  2020        2      2020 Q2\n",
      "1 2024-02-21 01:53:37.656980  2024        1      2024 Q1\n",
      "2 2022-10-06 01:53:37.656995  2022        4      2022 Q4\n",
      "3 2022-01-04 01:53:37.657006  2022        1      2022 Q1\n",
      "4 2020-03-13 01:53:37.657017  2020        1      2020 Q1\n"
     ]
    }
   ],
   "source": [
    "#Converting Sub Start Date as Date/Time\n",
    "df['Subscription_Start_Date'] = pd.to_datetime(df['Subscription_Start_Date'])\n",
    "\n",
    "#Creating a year and quarter column\n",
    "df['year'] = df['Subscription_Start_Date'].dt.year\n",
    "df['quarter'] = df['Subscription_Start_Date'].dt.quarter\n",
    "\n",
    "# Create a 'year_quarter' column for grouping\n",
    "df['year_quarter'] = df['year'].astype(str) + ' Q' + df['quarter'].astype(str)\n",
    "\n",
    "\n",
    "print(df[['Subscription_Start_Date','year', 'quarter', 'year_quarter']].head())"
   ]
  },
  {
   "cell_type": "code",
   "execution_count": 51,
   "metadata": {},
   "outputs": [],
   "source": [
    "df['Satisfaction_level'] = df.apply(value, axis=1)"
   ]
  },
  {
   "cell_type": "code",
   "execution_count": 52,
   "metadata": {},
   "outputs": [],
   "source": [
    "#Churn Rate Calculation Function\n",
    "def churn_rate(group):\n",
    "    churned = group['Churned'].sum()\n",
    "    total = group['Churned'].count()\n",
    "    return (churned/total) * 100"
   ]
  },
  {
   "cell_type": "code",
   "execution_count": 53,
   "metadata": {},
   "outputs": [],
   "source": [
    "standard_df = df[df['Subscription_Type'] == 'Standard']"
   ]
  },
  {
   "cell_type": "code",
   "execution_count": 54,
   "metadata": {},
   "outputs": [
    {
     "data": {
      "text/html": [
       "<div>\n",
       "<style scoped>\n",
       "    .dataframe tbody tr th:only-of-type {\n",
       "        vertical-align: middle;\n",
       "    }\n",
       "\n",
       "    .dataframe tbody tr th {\n",
       "        vertical-align: top;\n",
       "    }\n",
       "\n",
       "    .dataframe thead th {\n",
       "        text-align: right;\n",
       "    }\n",
       "</style>\n",
       "<table border=\"1\" class=\"dataframe\">\n",
       "  <thead>\n",
       "    <tr style=\"text-align: right;\">\n",
       "      <th></th>\n",
       "      <th>User_ID</th>\n",
       "      <th>Age</th>\n",
       "      <th>Gender</th>\n",
       "      <th>Location</th>\n",
       "      <th>Subscription_Start_Date</th>\n",
       "      <th>Subscription_Type</th>\n",
       "      <th>Monthly_Payment</th>\n",
       "      <th>Payment_Method</th>\n",
       "      <th>Monthly_Hours_Watched</th>\n",
       "      <th>Favorite_Genre</th>\n",
       "      <th>...</th>\n",
       "      <th>Average_Session_Length</th>\n",
       "      <th>Content_ID</th>\n",
       "      <th>Rating_Given</th>\n",
       "      <th>Churned</th>\n",
       "      <th>Date_of_Churn</th>\n",
       "      <th>Reason_for_Churn</th>\n",
       "      <th>year</th>\n",
       "      <th>quarter</th>\n",
       "      <th>year_quarter</th>\n",
       "      <th>Satisfaction_level</th>\n",
       "    </tr>\n",
       "  </thead>\n",
       "  <tbody>\n",
       "    <tr>\n",
       "      <th>1</th>\n",
       "      <td>2</td>\n",
       "      <td>69</td>\n",
       "      <td>Other</td>\n",
       "      <td>West</td>\n",
       "      <td>2024-02-21 01:53:37.656980</td>\n",
       "      <td>Standard</td>\n",
       "      <td>14.99</td>\n",
       "      <td>Credit Card</td>\n",
       "      <td>4.982277</td>\n",
       "      <td>Drama</td>\n",
       "      <td>...</td>\n",
       "      <td>0.809002</td>\n",
       "      <td>1076</td>\n",
       "      <td>1</td>\n",
       "      <td>0</td>\n",
       "      <td>NaN</td>\n",
       "      <td>NaN</td>\n",
       "      <td>2024</td>\n",
       "      <td>1</td>\n",
       "      <td>2024 Q1</td>\n",
       "      <td>Disatisfied</td>\n",
       "    </tr>\n",
       "    <tr>\n",
       "      <th>2</th>\n",
       "      <td>3</td>\n",
       "      <td>46</td>\n",
       "      <td>Female</td>\n",
       "      <td>North</td>\n",
       "      <td>2022-10-06 01:53:37.656995</td>\n",
       "      <td>Standard</td>\n",
       "      <td>14.99</td>\n",
       "      <td>PayPal</td>\n",
       "      <td>4.114953</td>\n",
       "      <td>Sci-Fi</td>\n",
       "      <td>...</td>\n",
       "      <td>1.153570</td>\n",
       "      <td>1095</td>\n",
       "      <td>2</td>\n",
       "      <td>0</td>\n",
       "      <td>NaN</td>\n",
       "      <td>NaN</td>\n",
       "      <td>2022</td>\n",
       "      <td>4</td>\n",
       "      <td>2022 Q4</td>\n",
       "      <td>Disatisfied</td>\n",
       "    </tr>\n",
       "    <tr>\n",
       "      <th>3</th>\n",
       "      <td>4</td>\n",
       "      <td>32</td>\n",
       "      <td>Female</td>\n",
       "      <td>East</td>\n",
       "      <td>2022-01-04 01:53:37.657006</td>\n",
       "      <td>Standard</td>\n",
       "      <td>14.99</td>\n",
       "      <td>Credit Card</td>\n",
       "      <td>60.244820</td>\n",
       "      <td>Action</td>\n",
       "      <td>...</td>\n",
       "      <td>0.609503</td>\n",
       "      <td>1003</td>\n",
       "      <td>1</td>\n",
       "      <td>0</td>\n",
       "      <td>NaN</td>\n",
       "      <td>NaN</td>\n",
       "      <td>2022</td>\n",
       "      <td>1</td>\n",
       "      <td>2022 Q1</td>\n",
       "      <td>Disatisfied</td>\n",
       "    </tr>\n",
       "    <tr>\n",
       "      <th>4</th>\n",
       "      <td>5</td>\n",
       "      <td>60</td>\n",
       "      <td>Female</td>\n",
       "      <td>North</td>\n",
       "      <td>2020-03-13 01:53:37.657017</td>\n",
       "      <td>Standard</td>\n",
       "      <td>14.99</td>\n",
       "      <td>Credit Card</td>\n",
       "      <td>4.711855</td>\n",
       "      <td>Sci-Fi</td>\n",
       "      <td>...</td>\n",
       "      <td>0.359971</td>\n",
       "      <td>1012</td>\n",
       "      <td>4</td>\n",
       "      <td>0</td>\n",
       "      <td>NaN</td>\n",
       "      <td>NaN</td>\n",
       "      <td>2020</td>\n",
       "      <td>1</td>\n",
       "      <td>2020 Q1</td>\n",
       "      <td>Satisfied</td>\n",
       "    </tr>\n",
       "    <tr>\n",
       "      <th>8</th>\n",
       "      <td>9</td>\n",
       "      <td>36</td>\n",
       "      <td>Male</td>\n",
       "      <td>East</td>\n",
       "      <td>2021-09-29 01:53:37.657064</td>\n",
       "      <td>Standard</td>\n",
       "      <td>14.99</td>\n",
       "      <td>Credit Card</td>\n",
       "      <td>24.052576</td>\n",
       "      <td>Drama</td>\n",
       "      <td>...</td>\n",
       "      <td>0.770118</td>\n",
       "      <td>1036</td>\n",
       "      <td>2</td>\n",
       "      <td>0</td>\n",
       "      <td>NaN</td>\n",
       "      <td>NaN</td>\n",
       "      <td>2021</td>\n",
       "      <td>3</td>\n",
       "      <td>2021 Q3</td>\n",
       "      <td>Disatisfied</td>\n",
       "    </tr>\n",
       "  </tbody>\n",
       "</table>\n",
       "<p>5 rows × 21 columns</p>\n",
       "</div>"
      ],
      "text/plain": [
       "   User_ID  Age  Gender Location    Subscription_Start_Date Subscription_Type  \\\n",
       "1        2   69   Other     West 2024-02-21 01:53:37.656980          Standard   \n",
       "2        3   46  Female    North 2022-10-06 01:53:37.656995          Standard   \n",
       "3        4   32  Female     East 2022-01-04 01:53:37.657006          Standard   \n",
       "4        5   60  Female    North 2020-03-13 01:53:37.657017          Standard   \n",
       "8        9   36    Male     East 2021-09-29 01:53:37.657064          Standard   \n",
       "\n",
       "   Monthly_Payment Payment_Method  Monthly_Hours_Watched Favorite_Genre  ...  \\\n",
       "1            14.99    Credit Card               4.982277          Drama  ...   \n",
       "2            14.99         PayPal               4.114953         Sci-Fi  ...   \n",
       "3            14.99    Credit Card              60.244820         Action  ...   \n",
       "4            14.99    Credit Card               4.711855         Sci-Fi  ...   \n",
       "8            14.99    Credit Card              24.052576          Drama  ...   \n",
       "\n",
       "  Average_Session_Length  Content_ID  Rating_Given  Churned  Date_of_Churn  \\\n",
       "1               0.809002        1076             1        0            NaN   \n",
       "2               1.153570        1095             2        0            NaN   \n",
       "3               0.609503        1003             1        0            NaN   \n",
       "4               0.359971        1012             4        0            NaN   \n",
       "8               0.770118        1036             2        0            NaN   \n",
       "\n",
       "  Reason_for_Churn  year  quarter  year_quarter Satisfaction_level  \n",
       "1              NaN  2024        1       2024 Q1        Disatisfied  \n",
       "2              NaN  2022        4       2022 Q4        Disatisfied  \n",
       "3              NaN  2022        1       2022 Q1        Disatisfied  \n",
       "4              NaN  2020        1       2020 Q1          Satisfied  \n",
       "8              NaN  2021        3       2021 Q3        Disatisfied  \n",
       "\n",
       "[5 rows x 21 columns]"
      ]
     },
     "execution_count": 54,
     "metadata": {},
     "output_type": "execute_result"
    }
   ],
   "source": [
    "standard_df.head()"
   ]
  },
  {
   "cell_type": "code",
   "execution_count": 55,
   "metadata": {},
   "outputs": [
    {
     "name": "stdout",
     "output_type": "stream",
     "text": [
      "Average User Rating for Standard Users:  3.0622641509433963\n"
     ]
    }
   ],
   "source": [
    "avg_standard_rating = standard_df['Rating_Given'].mean()\n",
    "print('Average User Rating for Standard Users: ', avg_standard_rating)"
   ]
  },
  {
   "cell_type": "code",
   "execution_count": 29,
   "metadata": {},
   "outputs": [],
   "source": [
    "standard_churn_users = df[(df['Subscription_Type'] == 'Standard') & df['Churned'] == 1]\n"
   ]
  },
  {
   "cell_type": "code",
   "execution_count": 98,
   "metadata": {},
   "outputs": [
    {
     "data": {
      "text/html": [
       "<div>\n",
       "<style scoped>\n",
       "    .dataframe tbody tr th:only-of-type {\n",
       "        vertical-align: middle;\n",
       "    }\n",
       "\n",
       "    .dataframe tbody tr th {\n",
       "        vertical-align: top;\n",
       "    }\n",
       "\n",
       "    .dataframe thead th {\n",
       "        text-align: right;\n",
       "    }\n",
       "</style>\n",
       "<table border=\"1\" class=\"dataframe\">\n",
       "  <thead>\n",
       "    <tr style=\"text-align: right;\">\n",
       "      <th></th>\n",
       "      <th>Reason_for_Churn</th>\n",
       "      <th>count</th>\n",
       "    </tr>\n",
       "  </thead>\n",
       "  <tbody>\n",
       "    <tr>\n",
       "      <th>0</th>\n",
       "      <td>Found better service</td>\n",
       "      <td>37</td>\n",
       "    </tr>\n",
       "    <tr>\n",
       "      <th>1</th>\n",
       "      <td>Price increase</td>\n",
       "      <td>35</td>\n",
       "    </tr>\n",
       "    <tr>\n",
       "      <th>2</th>\n",
       "      <td>Personal reasons</td>\n",
       "      <td>29</td>\n",
       "    </tr>\n",
       "    <tr>\n",
       "      <th>3</th>\n",
       "      <td>Dissatisfied with content</td>\n",
       "      <td>23</td>\n",
       "    </tr>\n",
       "  </tbody>\n",
       "</table>\n",
       "</div>"
      ],
      "text/plain": [
       "            Reason_for_Churn  count\n",
       "0       Found better service     37\n",
       "1             Price increase     35\n",
       "2           Personal reasons     29\n",
       "3  Dissatisfied with content     23"
      ]
     },
     "execution_count": 98,
     "metadata": {},
     "output_type": "execute_result"
    }
   ],
   "source": [
    "standard_churn_users['Reason_for_Churn'].value_counts().reset_index()"
   ]
  },
  {
   "cell_type": "code",
   "execution_count": 32,
   "metadata": {},
   "outputs": [
    {
     "name": "stdout",
     "output_type": "stream",
     "text": [
      "Average Rating Given for Standard users that have Churned:  2.6129032258064515\n"
     ]
    }
   ],
   "source": [
    "avg_rating_churn_standard = standard_churn_users['Rating_Given'].mean()\n",
    "print('Average Rating Given for Standard users that have Churned: ', avg_rating_churn_standard)"
   ]
  },
  {
   "cell_type": "code",
   "execution_count": 56,
   "metadata": {},
   "outputs": [
    {
     "data": {
      "text/plain": [
       "Rating_Given\n",
       "1    191\n",
       "2    212\n",
       "3    184\n",
       "4    202\n",
       "5    211\n",
       "Name: count, dtype: int64"
      ]
     },
     "execution_count": 56,
     "metadata": {},
     "output_type": "execute_result"
    }
   ],
   "source": [
    "#Total Star ratings for all users\n",
    "df['Rating_Given'].value_counts().sort_index()"
   ]
  },
  {
   "cell_type": "code",
   "execution_count": 57,
   "metadata": {},
   "outputs": [
    {
     "data": {
      "text/plain": [
       "Rating_Given\n",
       "1    102\n",
       "2    112\n",
       "3     85\n",
       "4    113\n",
       "5    118\n",
       "Name: count, dtype: int64"
      ]
     },
     "execution_count": 57,
     "metadata": {},
     "output_type": "execute_result"
    }
   ],
   "source": [
    "#Total Star Rating for Standard Users\n",
    "standard_df['Rating_Given'].value_counts().sort_index()"
   ]
  },
  {
   "cell_type": "code",
   "execution_count": 58,
   "metadata": {},
   "outputs": [],
   "source": [
    "def value(group):\n",
    "    if group['Rating_Given'] == 5:\n",
    "        return 'Very Satisfied'\n",
    "    elif group['Rating_Given'] == 4 or group['Rating_Given'] == 3:\n",
    "        return 'Satisfied'\n",
    "    else:\n",
    "        return 'Disatisfied'"
   ]
  },
  {
   "cell_type": "code",
   "execution_count": 47,
   "metadata": {},
   "outputs": [],
   "source": [
    "df['Satisfaction_level'] = df.apply(value, axis=1)"
   ]
  },
  {
   "cell_type": "code",
   "execution_count": 59,
   "metadata": {},
   "outputs": [
    {
     "data": {
      "text/html": [
       "<div>\n",
       "<style scoped>\n",
       "    .dataframe tbody tr th:only-of-type {\n",
       "        vertical-align: middle;\n",
       "    }\n",
       "\n",
       "    .dataframe tbody tr th {\n",
       "        vertical-align: top;\n",
       "    }\n",
       "\n",
       "    .dataframe thead th {\n",
       "        text-align: right;\n",
       "    }\n",
       "</style>\n",
       "<table border=\"1\" class=\"dataframe\">\n",
       "  <thead>\n",
       "    <tr style=\"text-align: right;\">\n",
       "      <th></th>\n",
       "      <th>Satisfaction_level</th>\n",
       "      <th>count</th>\n",
       "    </tr>\n",
       "  </thead>\n",
       "  <tbody>\n",
       "    <tr>\n",
       "      <th>0</th>\n",
       "      <td>Disatisfied</td>\n",
       "      <td>214</td>\n",
       "    </tr>\n",
       "    <tr>\n",
       "      <th>1</th>\n",
       "      <td>Satisfied</td>\n",
       "      <td>198</td>\n",
       "    </tr>\n",
       "    <tr>\n",
       "      <th>2</th>\n",
       "      <td>Very Satisfied</td>\n",
       "      <td>118</td>\n",
       "    </tr>\n",
       "  </tbody>\n",
       "</table>\n",
       "</div>"
      ],
      "text/plain": [
       "  Satisfaction_level  count\n",
       "0        Disatisfied    214\n",
       "1          Satisfied    198\n",
       "2     Very Satisfied    118"
      ]
     },
     "execution_count": 59,
     "metadata": {},
     "output_type": "execute_result"
    }
   ],
   "source": [
    "standard_df['Satisfaction_level'].value_counts().reset_index()"
   ]
  },
  {
   "cell_type": "code",
   "execution_count": 101,
   "metadata": {},
   "outputs": [
    {
     "ename": "TypeError",
     "evalue": "'SeriesGroupBy' object is not callable",
     "output_type": "error",
     "traceback": [
      "\u001b[0;31m---------------------------------------------------------------------------\u001b[0m",
      "\u001b[0;31mTypeError\u001b[0m                                 Traceback (most recent call last)",
      "Cell \u001b[0;32mIn[101], line 4\u001b[0m\n\u001b[1;32m      1\u001b[0m \u001b[38;5;66;03m#calculate average user rating every quarter by subscription type\u001b[39;00m\n\u001b[1;32m      3\u001b[0m average_satisfaction_by_user_quarter \u001b[38;5;241m=\u001b[39m standard_df\u001b[38;5;241m.\u001b[39mgroupby(\u001b[38;5;124m'\u001b[39m\u001b[38;5;124mSubscription_Type\u001b[39m\u001b[38;5;124m'\u001b[39m)[\u001b[38;5;124m'\u001b[39m\u001b[38;5;124mSatisfaction_level\u001b[39m\u001b[38;5;124m'\u001b[39m]\n\u001b[0;32m----> 4\u001b[0m \u001b[38;5;28mprint\u001b[39m(\u001b[43maverage_satisfaction_by_user_quarter\u001b[49m\u001b[43m(\u001b[49m\u001b[43m)\u001b[49m)\n",
      "\u001b[0;31mTypeError\u001b[0m: 'SeriesGroupBy' object is not callable"
     ]
    }
   ],
   "source": [
    "#calculate average user rating every quarter by subscription type\n",
    "\n",
    "average_satisfaction_by_user_quarter = standard_df.groupby('Subscription_Type')['Satisfaction_level']\n",
    "print(average_satisfaction_by_user_quarter())\n"
   ]
  },
  {
   "cell_type": "code",
   "execution_count": 99,
   "metadata": {},
   "outputs": [
    {
     "data": {
      "text/plain": [
       "Satisfaction_level\n",
       "Disatisfied       403\n",
       "Satisfied         386\n",
       "Very Satisfied    211\n",
       "Name: count, dtype: int64"
      ]
     },
     "execution_count": 99,
     "metadata": {},
     "output_type": "execute_result"
    }
   ],
   "source": [
    "df['Satisfaction_level'].value_counts()"
   ]
  },
  {
   "cell_type": "code",
   "execution_count": 100,
   "metadata": {},
   "outputs": [
    {
     "data": {
      "text/plain": [
       "Favorite_Genre\n",
       "Drama          212\n",
       "Action         205\n",
       "Comedy         203\n",
       "Sci-Fi         192\n",
       "Documentary    188\n",
       "Name: count, dtype: int64"
      ]
     },
     "execution_count": 100,
     "metadata": {},
     "output_type": "execute_result"
    }
   ],
   "source": []
  },
  {
   "cell_type": "code",
   "execution_count": null,
   "metadata": {},
   "outputs": [],
   "source": []
  }
 ],
 "metadata": {
  "kernelspec": {
   "display_name": "Python 3",
   "language": "python",
   "name": "python3"
  },
  "language_info": {
   "codemirror_mode": {
    "name": "ipython",
    "version": 3
   },
   "file_extension": ".py",
   "mimetype": "text/x-python",
   "name": "python",
   "nbconvert_exporter": "python",
   "pygments_lexer": "ipython3",
   "version": "3.9.6"
  }
 },
 "nbformat": 4,
 "nbformat_minor": 2
}
